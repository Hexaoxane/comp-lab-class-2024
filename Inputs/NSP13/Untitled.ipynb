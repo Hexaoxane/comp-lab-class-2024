{
 "cells": [
  {
   "cell_type": "code",
   "execution_count": 1,
   "id": "c421618d-fddd-4286-8dd3-77db2adfc95e",
   "metadata": {},
   "outputs": [
    {
     "ename": "ModuleNotFoundError",
     "evalue": "No module named 'mdtraj'",
     "output_type": "error",
     "traceback": [
      "\u001b[0;31m---------------------------------------------------------------------------\u001b[0m",
      "\u001b[0;31mModuleNotFoundError\u001b[0m                       Traceback (most recent call last)",
      "Cell \u001b[0;32mIn[1], line 1\u001b[0m\n\u001b[0;32m----> 1\u001b[0m \u001b[38;5;28;01mimport\u001b[39;00m \u001b[38;5;21;01mmdtraj\u001b[39;00m \u001b[38;5;28;01mas\u001b[39;00m \u001b[38;5;21;01mmd\u001b[39;00m\n\u001b[1;32m      2\u001b[0m \u001b[38;5;28;01mimport\u001b[39;00m \u001b[38;5;21;01mnumpy\u001b[39;00m \u001b[38;5;28;01mas\u001b[39;00m \u001b[38;5;21;01mnp\u001b[39;00m\n\u001b[1;32m      3\u001b[0m \u001b[38;5;28;01mimport\u001b[39;00m \u001b[38;5;21;01mmatplotlib\u001b[39;00m\u001b[38;5;21;01m.\u001b[39;00m\u001b[38;5;21;01mpyplot\u001b[39;00m \u001b[38;5;28;01mas\u001b[39;00m \u001b[38;5;21;01mplt\u001b[39;00m\n",
      "\u001b[0;31mModuleNotFoundError\u001b[0m: No module named 'mdtraj'"
     ]
    }
   ],
   "source": [
    "import mdtraj as md\n",
    "import numpy as np\n",
    "import matplotlib.pyplot as plt\n",
    "\n",
    "# 加载 AF2 和 AF3 预测的 Actin-Profilin 结构\n",
    "af2_traj = md.load(\"/mnt/d/QM_E/week7/Inputs/2BTF/AF2/test_2444f/test_2444f_unrelaxed_rank_001_alphafold2_multimer_v3_model_3_seed_000.pdb\")\n",
    "af3_traj = md.load(\"/mnt/d/QM_E/week7/Inputs/2BTF/AF3_fold_atp_2protin_mg/fold_atp_2protin_mg_model_0.cif\")\n",
    "\n",
    "# 对齐 AF2 和 AF3 模型中的 Actin 链 (chain A)\n",
    "# 我们假设 Actin 是链 A，使用链 A 的原子进行对齐\n",
    "actin_chain_af2 = af2_traj.topology.select(\"chainid 0 and name CA\")  # chain A in AF2\n",
    "actin_chain_af3 = af3_traj.topology.select(\"chainid 0 and name CA\")  # chain A in AF3\n",
    "\n",
    "# 对齐 AF2 和 AF3 的 Actin 链\n",
    "af2_aligned, af3_aligned = md.compute_superposition(af2_traj, af3_traj, atom_indices=actin_chain_af2)\n",
    "\n",
    "# 计算 Actin 中相应残基的距离\n",
    "distances = np.sqrt(np.sum((af2_aligned.xyz[:, actin_chain_af2, :] - af3_aligned.xyz[:, actin_chain_af3, :])**2, axis=2))\n",
    "\n",
    "# 计算每个残基之间的平均距离\n",
    "average_distances = np.mean(distances, axis=0)\n",
    "\n",
    "# 创建条形图来显示残基之间的距离\n",
    "residue_ids = np.arange(1, len(average_distances) + 1)\n",
    "plt.figure(figsize=(10, 6))\n",
    "plt.bar(residue_ids, average_distances, color='skyblue')\n",
    "plt.xlabel('Residue ID')\n",
    "plt.ylabel('Distance (nm)')\n",
    "plt.title('Distance Between Corresponding Residues of Actin in AF2 and AF3 Models')\n",
    "plt.tight_layout()\n",
    "\n",
    "# 保存图像到当前文件夹\n",
    "output_image_path = \"./actin_af2_af3_residue_distances.png\"\n",
    "plt.savefig(output_image_path, dpi=300)\n",
    "\n",
    "# 打印输出图像保存路径\n",
    "print(f\"Plot saved to {output_image_path}\")\n",
    "\n",
    "# 查找具有显著差异的残基并分析是否为无序区域或靠近核苷酸\n",
    "significant_threshold = 0.2  # 定义一个距离阈值来确定显著差异\n",
    "significant_residues = residue_ids[average_distances > significant_threshold]\n",
    "\n",
    "print(f\"Significant difference in residues (distance > {significant_threshold} nm): {significant_residues}\")\n"
   ]
  },
  {
   "cell_type": "code",
   "execution_count": null,
   "id": "876bafaf-1638-410b-acbd-8f5b278a7f85",
   "metadata": {},
   "outputs": [],
   "source": []
  }
 ],
 "metadata": {
  "kernelspec": {
   "display_name": "MDAnalysis Env",
   "language": "python",
   "name": "mdanalysis-env"
  },
  "language_info": {
   "codemirror_mode": {
    "name": "ipython",
    "version": 3
   },
   "file_extension": ".py",
   "mimetype": "text/x-python",
   "name": "python",
   "nbconvert_exporter": "python",
   "pygments_lexer": "ipython3",
   "version": "3.8.19"
  }
 },
 "nbformat": 4,
 "nbformat_minor": 5
}
