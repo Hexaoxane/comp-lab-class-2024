{
 "cells": [
  {
   "cell_type": "code",
   "execution_count": null,
   "id": "debb67a7-282d-4854-b976-637f5e893d12",
   "metadata": {},
   "outputs": [],
   "source": []
  }
 ],
 "metadata": {
  "kernelspec": {
   "display_name": "",
   "name": ""
  },
  "language_info": {
   "name": ""
  }
 },
 "nbformat": 4,
 "nbformat_minor": 5
}
