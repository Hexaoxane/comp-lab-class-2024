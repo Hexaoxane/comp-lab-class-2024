{
 "cells": [
  {
   "cell_type": "code",
   "execution_count": null,
   "id": "23c0eba8-b742-46d3-ba20-e9bace452a61",
   "metadata": {},
   "outputs": [],
   "source": [
    "Results & Discussion\n",
    "1. MSD vs Time (3D Plot)\n",
    "Observations: The 3D MSD plot shows that as the temperature decreases, the rate at which MSD increases with time slows down significantly. This indicates that particle movement is heavily suppressed at lower temperatures.\n",
    "Conclusion: At higher temperatures, particles exhibit higher diffusion coefficients, indicating a liquid-like behavior. In contrast, at lower temperatures, particle motion becomes restricted, suggesting the onset of a glassy state.\n",
    "2. MSD=1 Time vs Inverse Temperature (Log-Log Plot)\n",
    "Observations: The log-log plot of MSD=1 time versus inverse temperature shows a linear trend as 1/T increases. This implies that the time required for particles to diffuse a distance equivalent to their diameter increases significantly at lower temperatures.\n",
    "Conclusion: As the temperature decreases, particle diffusion becomes more challenging, further indicating the presence of glassy behavior in the system.\n",
    "3. RDF (3D Plot)\n",
    "g_11 (Type 1 & Type 1 Particles): At higher temperatures, the first peak of g_11 is lower and broader, while at lower temperatures, the peak is higher, indicating increased short-range order at low temperatures.\n",
    "g_22 (Type 2 & Type 2 Particles): Similar to g_11, g_22 shows higher peaks at lower temperatures, indicating that particles are more tightly packed.\n",
    "g_12 (Type 1 & Type 2 Particles): The trend for g_12 is similar to that of g_11 and g_22, showing that the spatial distribution of different particle types is also more ordered at lower temperatures.\n",
    "Conclusion: Overall, as the temperature decreases, all RDF curves exhibit sharper and higher peaks, indicating a more ordered spatial arrangement of particles. This further supports the system's tendency toward a glassy state at low temperatures.\n",
    "Summary\n",
    "This analysis, using MSD and RDF calculations, reveals the dynamic behavior and spatial arrangement of particles at different temperatures:\n",
    "\n",
    "At higher temperatures, particles diffuse more rapidly, exhibiting typical liquid behavior.\n",
    "At lower temperatures, the system shows signs of glass transition, with significantly restricted particle motion and increased short-range order.\n",
    "The log-log relationship between MSD=1 time and temperature highlights a nonlinear dependence of particle diffusion on temperature, further confirming glass-like behavior.\n",
    "These results are essential for understanding the dynamics of supercooled liquids and glass formation.\n",
    "\n"
   ]
  }
 ],
 "metadata": {
  "kernelspec": {
   "display_name": "lab_env_2024",
   "language": "python",
   "name": "lab_env_2024"
  },
  "language_info": {
   "codemirror_mode": {
    "name": "ipython",
    "version": 3
   },
   "file_extension": ".py",
   "mimetype": "text/x-python",
   "name": "python",
   "nbconvert_exporter": "python",
   "pygments_lexer": "ipython3",
   "version": "3.9.12"
  }
 },
 "nbformat": 4,
 "nbformat_minor": 5
}
