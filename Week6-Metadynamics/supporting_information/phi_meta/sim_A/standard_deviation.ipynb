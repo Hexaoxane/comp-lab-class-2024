{
 "cells": [
  {
   "cell_type": "code",
   "execution_count": 2,
   "id": "dd6bb824-9e5e-45f0-a033-7151ec6d3666",
   "metadata": {},
   "outputs": [
    {
     "name": "stdout",
     "output_type": "stream",
     "text": [
      "Phi angle standard deviation: 0.5677 radians\n",
      "Psi angle standard deviation: 1.1335 radians\n"
     ]
    }
   ],
   "source": [
    "import pandas as pd\n",
    "\n",
    "# 读取 COLVAR 文件，指定列名\n",
    "col_names = ['time', 'phi', 'psi']\n",
    "data = pd.read_csv(\"COLVAR\", delim_whitespace=True, names=col_names, comment='#', skiprows=1)\n",
    "\n",
    "# 计算 phi 和 psi 的标准差\n",
    "phi_std = data['phi'].std()\n",
    "psi_std = data['psi'].std()\n",
    "\n",
    "# 打印结果\n",
    "print(f\"Phi angle standard deviation: {phi_std:.4f} radians\")\n",
    "print(f\"Psi angle standard deviation: {psi_std:.4f} radians\")\n"
   ]
  },
  {
   "cell_type": "code",
   "execution_count": null,
   "id": "74d79450-a1f0-42b6-a85e-48acd612e7f7",
   "metadata": {},
   "outputs": [],
   "source": []
  }
 ],
 "metadata": {
  "kernelspec": {
   "display_name": "Python 3 (ipykernel)",
   "language": "python",
   "name": "python3"
  },
  "language_info": {
   "codemirror_mode": {
    "name": "ipython",
    "version": 3
   },
   "file_extension": ".py",
   "mimetype": "text/x-python",
   "name": "python",
   "nbconvert_exporter": "python",
   "pygments_lexer": "ipython3",
   "version": "3.8.10"
  }
 },
 "nbformat": 4,
 "nbformat_minor": 5
}
